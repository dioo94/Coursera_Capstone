{
 "cells": [
  {
   "cell_type": "markdown",
   "metadata": {},
   "source": [
    "# Capstone Battle of Neighborhoods (Week 1)"
   ]
  },
  {
   "cell_type": "markdown",
   "metadata": {},
   "source": [
    "## 1)Business Problem"
   ]
  },
  {
   "cell_type": "markdown",
   "metadata": {},
   "source": [
    "In this project we will try to find an optimal location(s) for a bakery in Downtown Toronto, Canada.\n",
    "\n",
    "We will try to detect neighborhoods with :\n",
    "* no/least frequency of bakeries\n",
    "* no/least frequency of bread related shops eg: bagel shop, donut shop, and sandwich place\n",
    "* bakery is not top 5 venues in the neighborhood\n",
    "\n",
    "We will use our data to generate a few most promising neighborhoods based on this criteria. Advantages of each area will then be clearly expressed so that best possible final location can be chosen by stakeholders."
   ]
  },
  {
   "cell_type": "markdown",
   "metadata": {},
   "source": [
    "## 2)Data Processing"
   ]
  },
  {
   "cell_type": "markdown",
   "metadata": {},
   "source": [
    "Based on definition of our problem, factors that will influence our decision are:\n",
    "* number of existing bread related shops in the neighborhood\n",
    "* number of bakeries in the neighborhood, if any\n",
    "* rank of bakery among venues existing in the neighborhood\n",
    "\n",
    "Following data sources will be needed to extract/generate the required information:\n",
    "* number of restaurants and their type and location in every neighborhood will be obtained using **Foursquare API**\n"
   ]
  },
  {
   "cell_type": "code",
   "execution_count": null,
   "metadata": {},
   "outputs": [],
   "source": []
  }
 ],
 "metadata": {
  "kernelspec": {
   "display_name": "Python 3",
   "language": "python",
   "name": "python3"
  },
  "language_info": {
   "codemirror_mode": {
    "name": "ipython",
    "version": 3
   },
   "file_extension": ".py",
   "mimetype": "text/x-python",
   "name": "python",
   "nbconvert_exporter": "python",
   "pygments_lexer": "ipython3",
   "version": "3.6.8"
  }
 },
 "nbformat": 4,
 "nbformat_minor": 2
}
